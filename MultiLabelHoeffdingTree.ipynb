{
 "cells": [
  {
   "cell_type": "code",
   "execution_count": 1,
   "metadata": {},
   "outputs": [],
   "source": [
    "import numpy"
   ]
  },
  {
   "cell_type": "code",
   "execution_count": 1,
   "metadata": {},
   "outputs": [
    {
     "ename": "ModuleNotFoundError",
     "evalue": "No module named 'node'",
     "output_type": "error",
     "traceback": [
      "\u001b[0;31m---------------------------------------------------------------------------\u001b[0m",
      "\u001b[0;31mModuleNotFoundError\u001b[0m                       Traceback (most recent call last)",
      "\u001b[0;32m<ipython-input-1-0d4c075d05c5>\u001b[0m in \u001b[0;36m<module>\u001b[0;34m()\u001b[0m\n\u001b[0;32m----> 1\u001b[0;31m \u001b[0;32mfrom\u001b[0m \u001b[0mnode\u001b[0m \u001b[0;32mimport\u001b[0m \u001b[0mNode\u001b[0m\u001b[0;34m\u001b[0m\u001b[0m\n\u001b[0m\u001b[1;32m      2\u001b[0m \u001b[0;32mclass\u001b[0m \u001b[0mMultiLabelHoeffdingTree\u001b[0m\u001b[0;34m:\u001b[0m\u001b[0;34m\u001b[0m\u001b[0m\n\u001b[1;32m      3\u001b[0m     \u001b[0;32mdef\u001b[0m \u001b[0m__init__\u001b[0m\u001b[0;34m(\u001b[0m\u001b[0mself\u001b[0m\u001b[0;34m)\u001b[0m\u001b[0;34m:\u001b[0m\u001b[0;34m\u001b[0m\u001b[0m\n\u001b[1;32m      4\u001b[0m         \u001b[0mself\u001b[0m\u001b[0;34m.\u001b[0m\u001b[0mroot\u001b[0m\u001b[0;34m=\u001b[0m\u001b[0mNode\u001b[0m\u001b[0;34m(\u001b[0m\u001b[0;34m)\u001b[0m\u001b[0;34m\u001b[0m\u001b[0m\n\u001b[1;32m      5\u001b[0m \u001b[0;34m\u001b[0m\u001b[0m\n",
      "\u001b[0;31mModuleNotFoundError\u001b[0m: No module named 'node'"
     ]
    }
   ],
   "source": [
    "from node import Node\n",
    "class MultiLabelHoeffdingTree:\n",
    "    def __init__(self,attributes):\n",
    "        self.root=Node()\n",
    "        self.ATTRIBUTES_NAMES=[]\n",
    "        for attribute in attributes:\n",
    "            self.ATTRIBUTES_NAMES.append(attribute)\n",
    "    \n",
    "    def fit(self,X,y):\n",
    "        N,=X.shape\n",
    "        for i in range(N):\n",
    "            self.partial_fit(X[i],y[i])\n",
    "        return self\n",
    "        \n",
    "    \n",
    "    def partial_fit(self,X,y):\n",
    "        if self.root is None:\n",
    "            self.root=Node()\n",
    "        current_node=get_currentNode(X)\n",
    "        self.root.growth(X,y,current_node,self.ATTRIBUTES_NAMES)\n",
    "        return self\n",
    "        \n",
    "        \n",
    "    def predict(self,X):\n",
    "        predict_y=self.root.predict(X)\n",
    "        return predict_y\n",
    "    \n",
    "    \n",
    "    def get_currentNode(self,X):\n",
    "        current_node=self.root\n",
    "        while len(current_node.children)!=0:\n",
    "            index=self.ATTRIBUTES_NAMES.index(current_node.get_attribute_name())\n",
    "            current_node=current_node.get_child_node(X[index])\n",
    "        return current_node"
   ]
  },
  {
   "cell_type": "code",
   "execution_count": null,
   "metadata": {},
   "outputs": [],
   "source": []
  }
 ],
 "metadata": {
  "kernelspec": {
   "display_name": "Python 3",
   "language": "python",
   "name": "python3"
  },
  "language_info": {
   "codemirror_mode": {
    "name": "ipython",
    "version": 3
   },
   "file_extension": ".py",
   "mimetype": "text/x-python",
   "name": "python",
   "nbconvert_exporter": "python",
   "pygments_lexer": "ipython3",
   "version": "3.6.3"
  }
 },
 "nbformat": 4,
 "nbformat_minor": 2
}
