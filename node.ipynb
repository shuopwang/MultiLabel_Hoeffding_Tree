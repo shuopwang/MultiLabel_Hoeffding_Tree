{
 "cells": [
  {
   "cell_type": "code",
   "execution_count": 2,
   "metadata": {},
   "outputs": [],
   "source": [
    "import numpy as np\n",
    "import math"
   ]
  },
  {
   "cell_type": "code",
   "execution_count": null,
   "metadata": {},
   "outputs": [],
   "source": [
    "class Node():\n",
    "    def __init__(self):\n",
    "        #entropy of the first attribute\n",
    "        self.first_entropy=0\n",
    "        self.second_entropy=0\n",
    "        #the partent of this node\n",
    "        self.parent=None\n",
    "        self.children=None\n",
    "        self.first_attribute=None\n",
    "        self.second_attribute=None\n",
    "        self.confidence=0.95\n",
    "        #the sigmoid used for get the hoeffding bound\n",
    "        self.sigmoid=1-self.confidence\n",
    "        self.n=0\n",
    "        self.number_class=0\n",
    "        self.is_leaf=True\n",
    "        \n",
    "    def setParent(self,node):\n",
    "        self.parent=node\n",
    "        \n",
    "    def hoeffding_bound(self,R):\n",
    "        return np.sqrt((math.power(R,2)*math.log(1.0/self.sigmoid))/(2*self.n))\n",
    "    \n",
    "    def hoeffding_split(self):\n",
    "        R=math.log(self.number_class)\n",
    "        hoeffding_bound=hoeffding_bound(R)\n",
    "        if((self.first_entropy-self.second_entropy)>hoeffding_bound):\n",
    "            split(self.first_attribute)\n",
    "    \n",
    "    def split(self,attribute):\n",
    "        self.is_leaf=True\n",
    "        self.children={}\n",
    "    \n",
    "    def predict(self,X):\n",
    "        pass\n",
    "    \n",
    "    def growth(self,X,y):\n",
    "        pass"
   ]
  }
 ],
 "metadata": {
  "kernelspec": {
   "display_name": "Python 3",
   "language": "python",
   "name": "python3"
  },
  "language_info": {
   "codemirror_mode": {
    "name": "ipython",
    "version": 3
   },
   "file_extension": ".py",
   "mimetype": "text/x-python",
   "name": "python",
   "nbconvert_exporter": "python",
   "pygments_lexer": "ipython3",
   "version": "3.6.3"
  }
 },
 "nbformat": 4,
 "nbformat_minor": 2
}
