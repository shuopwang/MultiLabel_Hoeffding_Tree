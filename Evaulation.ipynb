{
 "cells": [
  {
   "cell_type": "code",
   "execution_count": 6,
   "metadata": {},
   "outputs": [],
   "source": [
    "import numpy\n",
    "from time import clock"
   ]
  },
  {
   "cell_type": "code",
   "execution_count": 4,
   "metadata": {},
   "outputs": [],
   "source": [
    "def Hamming_loss(Y,Ypred):\n",
    "    N,L=Y.shape\n",
    "    return (sum((Y == Ypred) * 1.) / N / L)\n",
    "\n",
    "def exact_match(Y,Ypred):\n",
    "    N,L=Y.shape\n",
    "    sum_match=0\n",
    "    for i in range(N):\n",
    "        if(Y[i]==Ypred[i]):\n",
    "            sum_match+=1\n",
    "    return sum_match*1.0/N\n",
    "\n"
   ]
  },
  {
   "cell_type": "code",
   "execution_count": 5,
   "metadata": {},
   "outputs": [],
   "source": [
    "def prequential_evaluation(X,Y,set_classifier,init_number):\n",
    "    NC=len(set_classifier)\n",
    "    \n",
    "    X_init=X[0:init_number]\n",
    "    Y_init=Y[0:init_number]\n",
    "    \n",
    "    X=X[init_number:]\n",
    "    Y=Y[init_number:]\n",
    "    \n",
    "    N,L=Y.shape\n",
    "    \n",
    "    Y_pred=zeros((NC,N,L))\n",
    "    E_TIME=zeros(NC)\n",
    "    \n",
    "    for i in range(NC):\n",
    "        set_classifier[i].fit(X_init,Y_init)\n",
    "        \n",
    "    for i in range(N):\n",
    "        for c in range(NC):\n",
    "            start_time=clock()\n",
    "            Y_pred[c,i,:]=set_classifier[c].predict(X[i,:].reshape(1,-1))\n",
    "            set_classifier[c].partial_fit(X[i,:].reshape(1,-1),Y[t,:].reshape(1,-1))\n",
    "            E_TIME[c]+=(clock()-start_time)\n",
    "    return Y_pred,E_TIME"
   ]
  },
  {
   "cell_type": "code",
   "execution_count": null,
   "metadata": {},
   "outputs": [],
   "source": []
  }
 ],
 "metadata": {
  "kernelspec": {
   "display_name": "Python 3",
   "language": "python",
   "name": "python3"
  },
  "language_info": {
   "codemirror_mode": {
    "name": "ipython",
    "version": 3
   },
   "file_extension": ".py",
   "mimetype": "text/x-python",
   "name": "python",
   "nbconvert_exporter": "python",
   "pygments_lexer": "ipython3",
   "version": "3.6.3"
  }
 },
 "nbformat": 4,
 "nbformat_minor": 2
}
